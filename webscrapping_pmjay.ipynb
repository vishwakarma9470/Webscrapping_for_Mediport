{
 "cells": [
  {
   "cell_type": "code",
   "execution_count": 1,
   "id": "f304f114-be50-41e3-9be8-82bdd9e9c69d",
   "metadata": {},
   "outputs": [
    {
     "name": "stdout",
     "output_type": "stream",
     "text": [
      "Requirement already satisfied: requests in c:\\users\\esan raj\\appdata\\local\\programs\\python\\python310\\lib\\site-packages (2.32.2)\n",
      "Requirement already satisfied: beautifulsoup4 in c:\\users\\esan raj\\appdata\\local\\programs\\python\\python310\\lib\\site-packages (4.12.3)\n",
      "Requirement already satisfied: pandas in c:\\users\\esan raj\\appdata\\local\\programs\\python\\python310\\lib\\site-packages (2.2.1)\n",
      "Requirement already satisfied: openpyxl in c:\\users\\esan raj\\appdata\\local\\programs\\python\\python310\\lib\\site-packages (3.1.5)\n",
      "Requirement already satisfied: selenium in c:\\users\\esan raj\\appdata\\local\\programs\\python\\python310\\lib\\site-packages (4.23.1)\n",
      "Requirement already satisfied: charset-normalizer<4,>=2 in c:\\users\\esan raj\\appdata\\local\\programs\\python\\python310\\lib\\site-packages (from requests) (3.3.2)\n",
      "Requirement already satisfied: idna<4,>=2.5 in c:\\users\\esan raj\\appdata\\local\\programs\\python\\python310\\lib\\site-packages (from requests) (3.7)\n",
      "Requirement already satisfied: urllib3<3,>=1.21.1 in c:\\users\\esan raj\\appdata\\local\\programs\\python\\python310\\lib\\site-packages (from requests) (2.2.1)\n",
      "Requirement already satisfied: certifi>=2017.4.17 in c:\\users\\esan raj\\appdata\\local\\programs\\python\\python310\\lib\\site-packages (from requests) (2024.2.2)\n",
      "Requirement already satisfied: soupsieve>1.2 in c:\\users\\esan raj\\appdata\\local\\programs\\python\\python310\\lib\\site-packages (from beautifulsoup4) (2.5)\n",
      "Requirement already satisfied: numpy<2,>=1.22.4 in c:\\users\\esan raj\\appdata\\local\\programs\\python\\python310\\lib\\site-packages (from pandas) (1.26.4)\n",
      "Requirement already satisfied: python-dateutil>=2.8.2 in c:\\users\\esan raj\\appdata\\local\\programs\\python\\python310\\lib\\site-packages (from pandas) (2.8.2)\n",
      "Requirement already satisfied: pytz>=2020.1 in c:\\users\\esan raj\\appdata\\local\\programs\\python\\python310\\lib\\site-packages (from pandas) (2024.1)\n",
      "Requirement already satisfied: tzdata>=2022.7 in c:\\users\\esan raj\\appdata\\local\\programs\\python\\python310\\lib\\site-packages (from pandas) (2024.1)\n",
      "Requirement already satisfied: et-xmlfile in c:\\users\\esan raj\\appdata\\local\\programs\\python\\python310\\lib\\site-packages (from openpyxl) (1.1.0)\n",
      "Requirement already satisfied: trio~=0.17 in c:\\users\\esan raj\\appdata\\local\\programs\\python\\python310\\lib\\site-packages (from selenium) (0.26.0)\n",
      "Requirement already satisfied: trio-websocket~=0.9 in c:\\users\\esan raj\\appdata\\local\\programs\\python\\python310\\lib\\site-packages (from selenium) (0.11.1)\n",
      "Requirement already satisfied: typing_extensions~=4.9 in c:\\users\\esan raj\\appdata\\local\\programs\\python\\python310\\lib\\site-packages (from selenium) (4.12.0)\n",
      "Requirement already satisfied: websocket-client~=1.8 in c:\\users\\esan raj\\appdata\\local\\programs\\python\\python310\\lib\\site-packages (from selenium) (1.8.0)\n",
      "Requirement already satisfied: six>=1.5 in c:\\users\\esan raj\\appdata\\local\\programs\\python\\python310\\lib\\site-packages (from python-dateutil>=2.8.2->pandas) (1.16.0)\n",
      "Requirement already satisfied: attrs>=23.2.0 in c:\\users\\esan raj\\appdata\\local\\programs\\python\\python310\\lib\\site-packages (from trio~=0.17->selenium) (23.2.0)\n",
      "Requirement already satisfied: sortedcontainers in c:\\users\\esan raj\\appdata\\local\\programs\\python\\python310\\lib\\site-packages (from trio~=0.17->selenium) (2.4.0)\n",
      "Requirement already satisfied: outcome in c:\\users\\esan raj\\appdata\\local\\programs\\python\\python310\\lib\\site-packages (from trio~=0.17->selenium) (1.3.0.post0)\n",
      "Requirement already satisfied: sniffio>=1.3.0 in c:\\users\\esan raj\\appdata\\local\\programs\\python\\python310\\lib\\site-packages (from trio~=0.17->selenium) (1.3.1)\n",
      "Requirement already satisfied: cffi>=1.14 in c:\\users\\esan raj\\appdata\\local\\programs\\python\\python310\\lib\\site-packages (from trio~=0.17->selenium) (1.16.0)\n",
      "Requirement already satisfied: exceptiongroup in c:\\users\\esan raj\\appdata\\local\\programs\\python\\python310\\lib\\site-packages (from trio~=0.17->selenium) (1.2.1)\n",
      "Requirement already satisfied: wsproto>=0.14 in c:\\users\\esan raj\\appdata\\local\\programs\\python\\python310\\lib\\site-packages (from trio-websocket~=0.9->selenium) (1.2.0)\n",
      "Requirement already satisfied: pysocks!=1.5.7,<2.0,>=1.5.6 in c:\\users\\esan raj\\appdata\\local\\programs\\python\\python310\\lib\\site-packages (from urllib3[socks]<3,>=1.26->selenium) (1.7.1)\n",
      "Requirement already satisfied: pycparser in c:\\users\\esan raj\\appdata\\local\\programs\\python\\python310\\lib\\site-packages (from cffi>=1.14->trio~=0.17->selenium) (2.22)\n",
      "Requirement already satisfied: h11<1,>=0.9.0 in c:\\users\\esan raj\\appdata\\local\\programs\\python\\python310\\lib\\site-packages (from wsproto>=0.14->trio-websocket~=0.9->selenium) (0.14.0)\n"
     ]
    }
   ],
   "source": [
    "# Install required packages\n",
    "!pip install requests beautifulsoup4 pandas openpyxl selenium"
   ]
  },
  {
   "cell_type": "code",
   "execution_count": 48,
   "id": "f608f1c2-49a4-408c-ad2f-1e8a40e7d80e",
   "metadata": {},
   "outputs": [],
   "source": [
    "import requests\n",
    "from bs4 import BeautifulSoup as bs\n",
    "from selenium import webdriver\n",
    "from selenium.webdriver.common.by import By\n",
    "from selenium.webdriver.chrome.service import Service\n",
    "from selenium.webdriver.common.keys import Keys\n",
    "import pandas as pd\n",
    "from urllib.request import urlopen as uReq\n",
    "import time\n",
    "from selenium.webdriver.support.ui import WebDriverWait\n",
    "from selenium.webdriver.support import expected_conditions as EC\n",
    "from selenium.webdriver.support.ui import Select"
   ]
  },
  {
   "cell_type": "code",
   "execution_count": 49,
   "id": "3361aead-f112-4323-a899-bf9c3ee8e3c1",
   "metadata": {},
   "outputs": [],
   "source": [
    "# Path to the chromedriver executable\n",
    "driver_path = r'C:\\Users\\Dhaneesh\\Downloads\\chromedriver-win64\\chromedriver-win64\\chromedriver.exe'"
   ]
  },
  {
   "cell_type": "code",
   "execution_count": 50,
   "id": "83508c6c-0089-4aa7-8d37-e011d1130eac",
   "metadata": {},
   "outputs": [],
   "source": [
    "# Initialize the Service\n",
    "service = Service(driver_path)"
   ]
  },
  {
   "cell_type": "code",
   "execution_count": 51,
   "id": "c3010fad-2bd7-4cac-8aab-6b59437583db",
   "metadata": {},
   "outputs": [],
   "source": [
    "# Set up Chrome options to hide automation message\n",
    "chrome_options = webdriver.ChromeOptions()\n",
    "chrome_options.add_experimental_option(\"excludeSwitches\", [\"enable-automation\"])\n",
    "chrome_options.add_experimental_option('useAutomationExtension', False)"
   ]
  },
  {
   "cell_type": "code",
   "execution_count": 52,
   "id": "05c9aa51-e680-4c7b-90a1-6bd64648922d",
   "metadata": {},
   "outputs": [],
   "source": [
    "# Initialize the WebDriver with options\n",
    "driver = webdriver.Chrome(service=service, options=chrome_options)"
   ]
  },
  {
   "cell_type": "code",
   "execution_count": 53,
   "id": "00550634-ebeb-47fa-b0a6-478261ba91f2",
   "metadata": {},
   "outputs": [],
   "source": [
    "# Open the login page\n",
    "\n",
    "driver.get(\"https://tmsreports.pmjay.gov.in/OneTMS/loginnew.htm\")"
   ]
  },
  {
   "cell_type": "code",
   "execution_count": 54,
   "id": "c7019ca1-f66a-4efb-9aad-b01908ab5326",
   "metadata": {},
   "outputs": [],
   "source": [
    "# Find the username and password fields\n",
    "username_field = driver.find_element(By.NAME, 'username')\n",
    "password_field = driver.find_element(By.NAME, 'password')"
   ]
  },
  {
   "cell_type": "code",
   "execution_count": 55,
   "id": "e0a19d91-4a5b-4b9f-8dd7-d8ee68f74634",
   "metadata": {},
   "outputs": [],
   "source": [
    "# Enter the credentials\n",
    "username_field.send_keys('')"
   ]
  },
  {
   "cell_type": "code",
   "execution_count": 56,
   "id": "3588cba5-fb0c-41ab-b998-5aa2dce94e98",
   "metadata": {},
   "outputs": [],
   "source": [
    "process=driver.find_element(By.ID, 'proceed')\n",
    "process.click()"
   ]
  },
  {
   "cell_type": "code",
   "execution_count": 57,
   "id": "478ad456-7327-4d76-9fe9-e0a67a4a7906",
   "metadata": {},
   "outputs": [],
   "source": [
    "#sleep"
   ]
  },
  {
   "cell_type": "code",
   "execution_count": 58,
   "id": "c31213a8-663c-459a-84b2-944843570a96",
   "metadata": {},
   "outputs": [],
   "source": [
    "close_button = driver.find_element(By.CLASS_NAME, 'bootbox-close-button')\n",
    "close_button.click()"
   ]
  },
  {
   "cell_type": "code",
   "execution_count": 59,
   "id": "1ee4011e-bc3a-43cc-baa1-1f9adb2659b3",
   "metadata": {},
   "outputs": [],
   "source": [
    "password_field = driver.find_element(By.NAME, 'password')"
   ]
  },
  {
   "cell_type": "code",
   "execution_count": 60,
   "id": "b66e63d1-ae8e-41a7-8996-974cb1986ddc",
   "metadata": {},
   "outputs": [],
   "source": [
    "password_field.send_keys('')"
   ]
  },
  {
   "cell_type": "code",
   "execution_count": 61,
   "id": "dae14541-05a6-4b64-98b2-aa53e0261277",
   "metadata": {},
   "outputs": [
    {
     "name": "stdout",
     "output_type": "stream",
     "text": [
      "Enter CAPTCHA:  a35678\n"
     ]
    }
   ],
   "source": [
    "# Prompt the user to solve the CAPTCHA manually\n",
    "captcha_input = input('Enter CAPTCHA: ')\n",
    "captcha_field = driver.find_element(By.NAME, 'reqCaptcha')\n",
    "captcha_field.send_keys(captcha_input)"
   ]
  },
  {
   "cell_type": "code",
   "execution_count": 62,
   "id": "ffafe96a-4662-4eba-af63-462782587aaa",
   "metadata": {},
   "outputs": [],
   "source": [
    "click_to_login=driver.find_element(By.NAME, 'checkSubmit')\n",
    "click_to_login.click()"
   ]
  },
  {
   "cell_type": "code",
   "execution_count": 63,
   "id": "18f1912f-43bf-479e-af9f-8bd03f087a80",
   "metadata": {},
   "outputs": [],
   "source": [
    "# Submit the form after entering the CAPTCHA\n",
    "login_button = driver.find_element(By.ID, 'login-submit')\n",
    "login_button.click()"
   ]
  },
  {
   "cell_type": "code",
   "execution_count": 64,
   "id": "6a59bbda-80ac-4bc3-acab-ff964a10dd5d",
   "metadata": {},
   "outputs": [],
   "source": [
    "# Wait for the page to load after login\n",
    "time.sleep(5)"
   ]
  },
  {
   "cell_type": "code",
   "execution_count": 65,
   "id": "aab052c1-8d7b-4e4a-8ffb-cf6c3d569a03",
   "metadata": {},
   "outputs": [],
   "source": [
    "skip = driver.find_element(By.ID, \"skipBtn\")\n",
    "skip.click()"
   ]
  },
  {
   "cell_type": "code",
   "execution_count": 66,
   "id": "5681659a-2406-4b7f-90df-b679511cd028",
   "metadata": {},
   "outputs": [],
   "source": [
    "anchor_element = driver.find_element(By.CSS_SELECTOR, \"a[href='javascript:fn_casesSearch()']\")\n",
    "anchor_element.click()"
   ]
  },
  {
   "cell_type": "code",
   "execution_count": 23,
   "id": "053ec4d9-c477-43ad-b54a-52c426bb13fb",
   "metadata": {},
   "outputs": [],
   "source": [
    "driver.switch_to.default_content()"
   ]
  },
  {
   "cell_type": "code",
   "execution_count": 67,
   "id": "50a16e79-5c9b-4560-97d7-38a7ae8de586",
   "metadata": {
    "scrolled": true
   },
   "outputs": [],
   "source": [
    "iframe = driver.find_element(By.ID, \"middleFrame\")\n",
    "driver.switch_to.frame(iframe)"
   ]
  },
  {
   "cell_type": "code",
   "execution_count": 68,
   "id": "258f4306-6a0a-489d-978f-3cf3742d6c0e",
   "metadata": {},
   "outputs": [],
   "source": [
    "Casetype = driver.find_element(By.ID,\"select2-caseType-container\")\n",
    "Casetype.click()"
   ]
  },
  {
   "cell_type": "code",
   "execution_count": 69,
   "id": "40ccb459-1b87-4f69-8047-5a647217908d",
   "metadata": {},
   "outputs": [
    {
     "name": "stdout",
     "output_type": "stream",
     "text": [
      " a\n"
     ]
    }
   ],
   "source": [
    "input_element = driver.find_element(By.CSS_SELECTOR, \".select2-search__field\")\n",
    "case = input()\n",
    "# Set the value\n",
    "input_element.send_keys(case, Keys.ENTER)"
   ]
  },
  {
   "cell_type": "code",
   "execution_count": 70,
   "id": "21a5fdbf-6603-455c-a09c-1df5cc50d814",
   "metadata": {},
   "outputs": [],
   "source": [
    "Scheme = driver.find_element(By.ID,\"select2-selectedScheme-container\")\n",
    "Scheme.click()"
   ]
  },
  {
   "cell_type": "code",
   "execution_count": 71,
   "id": "9002fce6-fb12-408a-a06d-0e3e639faac8",
   "metadata": {},
   "outputs": [
    {
     "name": "stdout",
     "output_type": "stream",
     "text": [
      " DKBSBY(P)\n"
     ]
    }
   ],
   "source": [
    "input_element = driver.find_element(By.CSS_SELECTOR, \".select2-search__field\")\n",
    "case = input()\n",
    "# Set the value\n",
    "input_element.send_keys(case, Keys.ENTER)"
   ]
  },
  {
   "cell_type": "code",
   "execution_count": 72,
   "id": "e907ad55-0822-42d6-a69d-e9b2efbaea82",
   "metadata": {},
   "outputs": [],
   "source": [
    "# Perform the search or actions needed to reach the results page\n",
    "select_element = driver.find_element(By.ID, \"recordPeriod\")\n",
    "\n",
    "# Create a Select object\n",
    "select = Select(select_element)\n",
    "\n",
    "# Select the desired option by value\n",
    "select.select_by_value(\"90\")"
   ]
  },
  {
   "cell_type": "code",
   "execution_count": 73,
   "id": "332c87ac-15f3-4c29-a07e-2f9dcf94729a",
   "metadata": {},
   "outputs": [],
   "source": [
    "# Wait for the results to load\n",
    "button = driver.find_element(By.CSS_SELECTOR, \".btn.btn-success\")\n",
    "button.click()"
   ]
  },
  {
   "cell_type": "code",
   "execution_count": 57,
   "id": "3b3b6b60-cda7-436a-8907-042b73a21538",
   "metadata": {},
   "outputs": [],
   "source": [
    "image_element = driver.find_element(By.ID, \"excelImg\")\n",
    "image_element.click()"
   ]
  },
  {
   "cell_type": "code",
   "execution_count": 51,
   "id": "5b28e172-0b75-4819-bc59-06e34d69b688",
   "metadata": {},
   "outputs": [],
   "source": [
    "driver.switch_to.default_content()"
   ]
  },
  {
   "cell_type": "code",
   "execution_count": 1,
   "id": "0c02d278-d295-4f48-b3ad-352c4f4b0812",
   "metadata": {},
   "outputs": [
    {
     "ename": "NameError",
     "evalue": "name 'driver' is not defined",
     "output_type": "error",
     "traceback": [
      "\u001b[1;31m---------------------------------------------------------------------------\u001b[0m",
      "\u001b[1;31mNameError\u001b[0m                                 Traceback (most recent call last)",
      "Cell \u001b[1;32mIn[1], line 2\u001b[0m\n\u001b[0;32m      1\u001b[0m \u001b[38;5;66;03m# Close the browser\u001b[39;00m\n\u001b[1;32m----> 2\u001b[0m \u001b[43mdriver\u001b[49m\u001b[38;5;241m.\u001b[39mquit()\n",
      "\u001b[1;31mNameError\u001b[0m: name 'driver' is not defined"
     ]
    }
   ],
   "source": [
    "# Close the browser\n",
    "driver.quit()"
   ]
  },
  {
   "cell_type": "code",
   "execution_count": null,
   "id": "d2f9eb59-abb2-4a6d-828a-763b7416d6fc",
   "metadata": {},
   "outputs": [],
   "source": []
  }
 ],
 "metadata": {
  "kernelspec": {
   "display_name": "Python 3 (ipykernel)",
   "language": "python",
   "name": "python3"
  },
  "language_info": {
   "codemirror_mode": {
    "name": "ipython",
    "version": 3
   },
   "file_extension": ".py",
   "mimetype": "text/x-python",
   "name": "python",
   "nbconvert_exporter": "python",
   "pygments_lexer": "ipython3",
   "version": "3.10.10"
  }
 },
 "nbformat": 4,
 "nbformat_minor": 5
}
